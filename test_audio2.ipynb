{
 "cells": [
  {
   "cell_type": "markdown",
   "metadata": {},
   "source": [
    "# Test Audio2\n",
    "\n",
    "## Payload to Stego"
   ]
  },
  {
   "cell_type": "code",
   "execution_count": 1,
   "metadata": {},
   "outputs": [
    {
     "name": "stdout",
     "output_type": "stream",
     "text": [
      "pygame 1.9.4\n",
      "Hello from the pygame community. https://www.pygame.org/contribute.html\n",
      "Infile converted from .ogg to \".wav\"\n",
      "data read in!\n",
      "DataType: int16\n",
      "Duration: 13.457333333333333\n",
      "NumChannels: 2\n",
      "SampleRate: 48000\n",
      "Source: sample.wav\n",
      "TotalSamples: 645952\n",
      "\n"
     ]
    }
   ],
   "source": [
    "from sksound.sounds import Sound\n",
    "import stegosaurus.util as util\n",
    "\n",
    "audio = Sound(\"sample.ogg\")\n",
    "audio.summary()"
   ]
  },
  {
   "cell_type": "code",
   "execution_count": 2,
   "metadata": {},
   "outputs": [
    {
     "data": {
      "text/plain": [
       "True"
      ]
     },
     "execution_count": 2,
     "metadata": {},
     "output_type": "execute_result"
    }
   ],
   "source": [
    "import numpy as np\n",
    "\n",
    "from stegosaurus.audio.encode import encode\n",
    "from stegosaurus.audio.header import AudioHeader\n",
    "\n",
    "audio_data = np.copy(audio.data)\n",
    "\n",
    "h = AudioHeader()\n",
    "h.payload_name = \"requirements.txt\"\n",
    "h.is_random_frame = True\n",
    "\n",
    "payload_data = np.fromfile(\"requirements.txt\", dtype=np.uint8)\n",
    "\n",
    "passphrase = np.frombuffer(b'hello', dtype=np.uint8)\n",
    "encode(audio_data, payload_data, h, passphrase)"
   ]
  },
  {
   "cell_type": "code",
   "execution_count": 3,
   "metadata": {},
   "outputs": [
    {
     "name": "stdout",
     "output_type": "stream",
     "text": [
      "Sounddata written to , with a sample rate of 48000\n",
      "OutDir: out.wav\n"
     ]
    },
    {
     "data": {
      "text/plain": [
       "'out.wav'"
      ]
     },
     "execution_count": 3,
     "metadata": {},
     "output_type": "execute_result"
    }
   ],
   "source": [
    "import pygame\n",
    "\n",
    "stego_audio = Sound(inData=audio_data, inRate=audio.rate)\n",
    "stego_audio.write_wav(\"out.wav\")"
   ]
  },
  {
   "cell_type": "markdown",
   "metadata": {},
   "source": [
    "## Stego to Payload"
   ]
  },
  {
   "cell_type": "code",
   "execution_count": 4,
   "metadata": {},
   "outputs": [
    {
     "name": "stdout",
     "output_type": "stream",
     "text": [
      "data read in!\n",
      "DataType: int16\n",
      "Duration: 13.457333333333333\n",
      "NumChannels: 2\n",
      "SampleRate: 48000\n",
      "Source: sample.wav\n",
      "TotalSamples: 645952\n",
      "\n"
     ]
    }
   ],
   "source": [
    "stego_audio = Sound(\"out.wav\")\n",
    "audio.summary()"
   ]
  },
  {
   "cell_type": "code",
   "execution_count": 5,
   "metadata": {},
   "outputs": [],
   "source": [
    "from stegosaurus.audio.decode import decode\n",
    "\n",
    "header, stego_payload_data = decode(audio_data, passphrase)"
   ]
  },
  {
   "cell_type": "code",
   "execution_count": 6,
   "metadata": {},
   "outputs": [
    {
     "data": {
      "text/plain": [
       "b'kit-video\\r\\n\\x10\\x05\\x00\\x00\\x00\\x00\\x00\\x00 \\x00\\n\\x04@A@\\x00\\x08(\\x00\\x00\\xa8\\x15\\x00\\x00\\x00\\x00\\x80\\x00\\x02\\x80\\x01A\\x00\\x00\\x00\\x08\\x00\\x00\\x00\\n\\x00 \\x00\\x00 \\x10\\x05@\\x00\\x00\\xa0\\x00\\x00'"
      ]
     },
     "execution_count": 6,
     "metadata": {},
     "output_type": "execute_result"
    }
   ],
   "source": [
    "stego_payload_data.tobytes()"
   ]
  },
  {
   "cell_type": "code",
   "execution_count": 7,
   "metadata": {},
   "outputs": [
    {
     "data": {
      "text/plain": [
       "44"
      ]
     },
     "execution_count": 7,
     "metadata": {},
     "output_type": "execute_result"
    }
   ],
   "source": [
    "header.payload_size"
   ]
  },
  {
   "cell_type": "code",
   "execution_count": null,
   "metadata": {},
   "outputs": [],
   "source": []
  }
 ],
 "metadata": {
  "kernelspec": {
   "display_name": "Python 3",
   "language": "python",
   "name": "python3"
  },
  "language_info": {
   "codemirror_mode": {
    "name": "ipython",
    "version": 3
   },
   "file_extension": ".py",
   "mimetype": "text/x-python",
   "name": "python",
   "nbconvert_exporter": "python",
   "pygments_lexer": "ipython3",
   "version": "3.7.2"
  }
 },
 "nbformat": 4,
 "nbformat_minor": 2
}
