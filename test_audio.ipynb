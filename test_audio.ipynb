{
 "cells": [
  {
   "cell_type": "markdown",
   "metadata": {},
   "source": [
    "# Test Audio\n",
    "\n",
    "## Load Audio"
   ]
  },
  {
   "cell_type": "code",
   "execution_count": 1,
   "metadata": {},
   "outputs": [
    {
     "name": "stdout",
     "output_type": "stream",
     "text": [
      "pygame 1.9.4\n",
      "Hello from the pygame community. https://www.pygame.org/contribute.html\n",
      "Infile converted from .mp3 to \".wav\"\n",
      "data read in!\n",
      "DataType: int16\n",
      "Duration: 5.815419501133787\n",
      "NumChannels: 2\n",
      "SampleRate: 44100\n",
      "Source: AfterPlane2.wav\n",
      "TotalSamples: 256460\n",
      "\n"
     ]
    }
   ],
   "source": [
    "from sksound.sounds import Sound\n",
    "import stegosaurus.util as util\n",
    "\n",
    "a = Sound(\"AfterPlane2.mp3\")\n",
    "a.summary()"
   ]
  },
  {
   "cell_type": "markdown",
   "metadata": {},
   "source": [
    "## Load Binary"
   ]
  },
  {
   "cell_type": "code",
   "execution_count": 2,
   "metadata": {},
   "outputs": [],
   "source": [
    "import numpy as np\n",
    "\n",
    "n_bits = 2\n",
    "\n",
    "payload_data = np.fromfile(\"requirements.txt\", dtype=\"uint8\")\n",
    "payload_data = np.unpackbits(payload_data).reshape(-1,n_bits)"
   ]
  },
  {
   "cell_type": "markdown",
   "metadata": {},
   "source": [
    "## Insert Binary"
   ]
  },
  {
   "cell_type": "code",
   "execution_count": 3,
   "metadata": {},
   "outputs": [],
   "source": [
    "b = np.copy(a.data)\n",
    "\n",
    "b.reshape(-1,1)\n",
    "\n",
    "util.apply_lsb(b, payload_data, n_bits)\n",
    "\n",
    "c = Sound(inData=b, inRate=a.rate)"
   ]
  },
  {
   "cell_type": "markdown",
   "metadata": {},
   "source": [
    "## Play Audio"
   ]
  },
  {
   "cell_type": "code",
   "execution_count": 4,
   "metadata": {},
   "outputs": [
    {
     "name": "stdout",
     "output_type": "stream",
     "text": [
      "Sounddata written to /tmp, with a sample rate of 44100\n",
      "OutDir: tmpiuvjh83o.wav\n"
     ]
    }
   ],
   "source": [
    "c.play()"
   ]
  },
  {
   "cell_type": "code",
   "execution_count": 5,
   "metadata": {},
   "outputs": [
    {
     "data": {
      "text/plain": [
       "array([[ 0],\n",
       "       [ 1],\n",
       "       [ 1],\n",
       "       ...,\n",
       "       [-1],\n",
       "       [ 0],\n",
       "       [ 0]], dtype=int16)"
      ]
     },
     "execution_count": 5,
     "metadata": {},
     "output_type": "execute_result"
    }
   ],
   "source": [
    "import stegosaurus.audio.encode as encode\n",
    "\n",
    "b = b.reshape(-1,1)\n",
    "b"
   ]
  },
  {
   "cell_type": "code",
   "execution_count": 6,
   "metadata": {},
   "outputs": [
    {
     "data": {
      "text/plain": [
       "array([[0],\n",
       "       [0],\n",
       "       [1],\n",
       "       ...,\n",
       "       [0],\n",
       "       [0],\n",
       "       [0]], dtype=int16)"
      ]
     },
     "execution_count": 6,
     "metadata": {},
     "output_type": "execute_result"
    }
   ],
   "source": [
    "d = encode.stereo_to_mono(b)\n",
    "d"
   ]
  }
 ],
 "metadata": {
  "kernelspec": {
   "display_name": "Python 3",
   "language": "python",
   "name": "python3"
  },
  "language_info": {
   "codemirror_mode": {
    "name": "ipython",
    "version": 3
   },
   "file_extension": ".py",
   "mimetype": "text/x-python",
   "name": "python",
   "nbconvert_exporter": "python",
   "pygments_lexer": "ipython3",
   "version": "3.6.7"
  }
 },
 "nbformat": 4,
 "nbformat_minor": 2
}
