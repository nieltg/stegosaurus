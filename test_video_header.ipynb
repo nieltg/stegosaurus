{
 "cells": [
  {
   "cell_type": "code",
   "execution_count": 3,
   "metadata": {},
   "outputs": [
    {
     "data": {
      "text/plain": [
       "array([ 83,  84,  69,  71,  79,  83,  65,  85,  82,  85,  83,   0,   0,\n",
       "         0,   0,  64,  97, 121,  97, 109,  45, 103, 111, 114, 101, 110,\n",
       "       103,  46, 116, 120, 116,   0], dtype=uint8)"
      ]
     },
     "execution_count": 3,
     "metadata": {},
     "output_type": "execute_result"
    }
   ],
   "source": [
    "from stegosaurus.video.header import VideoHeader\n",
    "\n",
    "h = VideoHeader()\n",
    "h.payload_name = \"ayam-goreng.txt\"\n",
    "h.payload_size = 64\n",
    "\n",
    "data = h.serialize()\n",
    "data"
   ]
  },
  {
   "cell_type": "code",
   "execution_count": 5,
   "metadata": {},
   "outputs": [],
   "source": [
    "from stegosaurus.video.header import ChunkFactory\n",
    "\n",
    "chunks = [data, None]\n",
    "chunks_iter = chunks.__iter__()\n",
    "\n",
    "class MyChunkFactory(ChunkFactory):\n",
    "    def load(self):\n",
    "        return next(chunks_iter)\n",
    "\n",
    "chunk_factory = MyChunkFactory()\n",
    "\n",
    "decoded_h = VideoHeader.from_factory(chunk_factory)"
   ]
  },
  {
   "cell_type": "code",
   "execution_count": 8,
   "metadata": {},
   "outputs": [
    {
     "data": {
      "text/plain": [
       "True"
      ]
     },
     "execution_count": 8,
     "metadata": {},
     "output_type": "execute_result"
    }
   ],
   "source": [
    "import numpy as np\n",
    "\n",
    "np.array_equal(decoded_h.serialize(), data)"
   ]
  },
  {
   "cell_type": "code",
   "execution_count": null,
   "metadata": {},
   "outputs": [],
   "source": []
  }
 ],
 "metadata": {
  "kernelspec": {
   "display_name": "Python 3",
   "language": "python",
   "name": "python3"
  },
  "language_info": {
   "codemirror_mode": {
    "name": "ipython",
    "version": 3
   },
   "file_extension": ".py",
   "mimetype": "text/x-python",
   "name": "python",
   "nbconvert_exporter": "python",
   "pygments_lexer": "ipython3",
   "version": "3.7.2"
  }
 },
 "nbformat": 4,
 "nbformat_minor": 2
}
