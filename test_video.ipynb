{
 "cells": [
  {
   "cell_type": "markdown",
   "metadata": {},
   "source": [
    "# Test Video\n",
    "\n",
    "## Load Video"
   ]
  },
  {
   "cell_type": "code",
   "execution_count": 1,
   "metadata": {},
   "outputs": [
    {
     "name": "stderr",
     "output_type": "stream",
     "text": [
      "/home/nieltg/.local/lib/python3.7/site-packages/skvideo/io/abstract.py:162: UserWarning: Cannot determine frame count. Scanning input file, this is slow when repeated many times. Need `-vframes` in inputdict. Consult documentation on I/O.\n",
      "  UserWarning)\n"
     ]
    },
    {
     "name": "stdout",
     "output_type": "stream",
     "text": [
      "['/usr/bin/ffmpeg', '-i', 'sample.ogv', '-f', 'image2pipe', '-pix_fmt', 'rgb24', '-vcodec', 'rawvideo', '-']\n"
     ]
    },
    {
     "data": {
      "text/plain": [
       "(120, 270, 480, 3)"
      ]
     },
     "execution_count": 1,
     "metadata": {},
     "output_type": "execute_result"
    }
   ],
   "source": [
    "import skvideo.io\n",
    "import skvideo.datasets\n",
    "\n",
    "data = skvideo.io.vread(\"sample.ogv\", verbosity=1)\n",
    "data.shape"
   ]
  },
  {
   "cell_type": "code",
   "execution_count": 2,
   "metadata": {},
   "outputs": [
    {
     "name": "stdout",
     "output_type": "stream",
     "text": [
      "(741034,)\n"
     ]
    },
    {
     "data": {
      "text/plain": [
       "True"
      ]
     },
     "execution_count": 2,
     "metadata": {},
     "output_type": "execute_result"
    }
   ],
   "source": [
    "from stegosaurus.video.encode import encode\n",
    "from stegosaurus.video.header import VideoHeader\n",
    "\n",
    "import numpy as np\n",
    "\n",
    "h = VideoHeader()\n",
    "h.payload_name = \"sample.ogv\"\n",
    "h.payload_size = 100\n",
    "h.is_random_frame = True\n",
    "\n",
    "payload_data = np.fromfile(\"sample.ogv\", dtype=np.uint8)\n",
    "print(payload_data.shape)\n",
    "\n",
    "passphrase = np.frombuffer(b'hello', dtype=np.uint8)\n",
    "encode(data, payload_data, h, passphrase)"
   ]
  },
  {
   "cell_type": "code",
   "execution_count": 3,
   "metadata": {},
   "outputs": [
    {
     "name": "stdout",
     "output_type": "stream",
     "text": [
      "/usr/bin/ffmpeg -y -f rawvideo -pix_fmt rgb24 -s 480x270 -i - -vcodec png /home/nieltg/Projects/stegosaurus/stegosaurus-reborn/out.avi\n"
     ]
    }
   ],
   "source": [
    "skvideo.io.vwrite(\"out.avi\", data, outputdict={\"-vcodec\": \"png\"}, verbosity=1)"
   ]
  },
  {
   "cell_type": "markdown",
   "metadata": {},
   "source": [
    "## Reload Video"
   ]
  },
  {
   "cell_type": "code",
   "execution_count": 4,
   "metadata": {},
   "outputs": [
    {
     "name": "stdout",
     "output_type": "stream",
     "text": [
      "['/usr/bin/ffmpeg', '-i', 'out.avi', '-f', 'image2pipe', '-pix_fmt', 'rgb24', '-vcodec', 'rawvideo', '-']\n"
     ]
    },
    {
     "data": {
      "text/plain": [
       "(120, 270, 480, 3)"
      ]
     },
     "execution_count": 4,
     "metadata": {},
     "output_type": "execute_result"
    }
   ],
   "source": [
    "import skvideo.io\n",
    "import skvideo.datasets\n",
    "\n",
    "stego_data = skvideo.io.vread(\"out.avi\", verbosity=1)\n",
    "stego_data.shape"
   ]
  },
  {
   "cell_type": "code",
   "execution_count": 5,
   "metadata": {},
   "outputs": [],
   "source": [
    "from stegosaurus.video.decode import decode\n",
    "\n",
    "header, payload = decode(stego_data, passphrase)"
   ]
  },
  {
   "cell_type": "code",
   "execution_count": 6,
   "metadata": {},
   "outputs": [
    {
     "data": {
      "text/plain": [
       "(741034,)"
      ]
     },
     "execution_count": 6,
     "metadata": {},
     "output_type": "execute_result"
    }
   ],
   "source": [
    "import numpy as nd\n",
    "\n",
    "payload.shape"
   ]
  },
  {
   "cell_type": "code",
   "execution_count": 7,
   "metadata": {},
   "outputs": [
    {
     "data": {
      "text/plain": [
       "True"
      ]
     },
     "execution_count": 7,
     "metadata": {},
     "output_type": "execute_result"
    }
   ],
   "source": [
    "np.array_equal(payload_data, payload)"
   ]
  }
 ],
 "metadata": {
  "kernelspec": {
   "display_name": "Python 3",
   "language": "python",
   "name": "python3"
  },
  "language_info": {
   "codemirror_mode": {
    "name": "ipython",
    "version": 3
   },
   "file_extension": ".py",
   "mimetype": "text/x-python",
   "name": "python",
   "nbconvert_exporter": "python",
   "pygments_lexer": "ipython3",
   "version": "3.7.2"
  }
 },
 "nbformat": 4,
 "nbformat_minor": 2
}
